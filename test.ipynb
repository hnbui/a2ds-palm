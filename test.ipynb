{
 "cells": [
  {
   "cell_type": "code",
   "execution_count": null,
   "metadata": {},
   "outputs": [],
   "source": [
    "import numpy as np\n",
    "import os \n",
    "from PIL import Image\n",
    "\n",
    "img_root = 'data/Classification/'\n",
    "for file in os.listdir(img_root):\n",
    "    img = Image.open(os.path.join(img_root, file), 'r')\n",
    "    img_resize = img.resize((512, 512), resample=1)\n",
    "    img_resize.save('data/Classification_resize/' + file)\n",
    "\n",
    "mask_root = 'data/Annotation/Disc_Masks/'\n",
    "for file in os.listdir(mask_root):\n",
    "    mask = Image.open(os.path.join(mask_root, file), 'r')\n",
    "    mask_resize = mask.resize((512, 512), resample=1)\n",
    "    mask_resize.save('data/Annotation/Disc_Masks_resize/' + file)"
   ]
  },
  {
   "cell_type": "code",
   "execution_count": 10,
   "metadata": {},
   "outputs": [],
   "source": [
    "import torch\n",
    "from PIL import Image\n",
    "from torchvision import transforms\n",
    "from torchvision.utils import save_image\n",
    "\n",
    "model = torch.load('results/a2ds_palm_unet.pth').to('cpu')\n",
    "img = Image.open('data/Test/V0011.jpg')\n",
    "img = img.resize((512, 512), resample=1)\n",
    "img = transforms.ToTensor()(img)\n",
    "img = img[None, :, :, :]\n",
    "pred = model(img)\n",
    "save_image(pred[0], 'pred.png')\n"
   ]
  },
  {
   "cell_type": "code",
   "execution_count": null,
   "metadata": {},
   "outputs": [],
   "source": []
  }
 ],
 "metadata": {
  "kernelspec": {
   "display_name": "a2ds",
   "language": "python",
   "name": "python3"
  },
  "language_info": {
   "codemirror_mode": {
    "name": "ipython",
    "version": 3
   },
   "file_extension": ".py",
   "mimetype": "text/x-python",
   "name": "python",
   "nbconvert_exporter": "python",
   "pygments_lexer": "ipython3",
   "version": "3.9.18"
  }
 },
 "nbformat": 4,
 "nbformat_minor": 2
}
